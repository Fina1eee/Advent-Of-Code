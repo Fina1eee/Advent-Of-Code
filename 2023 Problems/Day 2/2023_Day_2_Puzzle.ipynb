{
 "cells": [
  {
   "cell_type": "markdown",
   "metadata": {},
   "source": [
    "https://adventofcode.com/2023/day/2"
   ]
  },
  {
   "cell_type": "code",
   "execution_count": 1,
   "metadata": {},
   "outputs": [],
   "source": [
    "TestInput = ['Game 1: 3 blue, 4 red; 1 red, 2 green, 6 blue; 2 green',\n",
    "             'Game 2: 1 blue, 2 green; 3 green, 4 blue, 1 red; 1 green, 1 blue',\n",
    "             'Game 3: 8 green, 6 blue, 20 red; 5 blue, 4 red, 13 green; 5 green, 1 red',\n",
    "             'Game 4: 1 green, 3 red, 6 blue; 3 green, 6 red; 3 green, 15 blue, 14 red',\n",
    "             'Game 5: 6 red, 1 blue, 3 green; 2 blue, 1 red, 2 green']"
   ]
  },
  {
   "cell_type": "code",
   "execution_count": 2,
   "metadata": {},
   "outputs": [],
   "source": [
    "class PuzzleSet:\n",
    "    def __init__(self,Input):\n",
    "        self.input = Input\n",
    "        self.Games = []\n",
    "        for Games in self.input:\n",
    "            self.Games.append(Game(Games))\n",
    "    def PossibleGamesWithNCubes(self,nBlueCubes,nRedCubes,nGreenCubes):\n",
    "        GameIDs = []\n",
    "        for G in self.Games:\n",
    "            if G.IsPossibleWithNCubes(nBlueCubes,nRedCubes,nGreenCubes):\n",
    "                GameIDs.append(G.FindGameID())\n",
    "        return GameIDs"
   ]
  },
  {
   "cell_type": "code",
   "execution_count": 3,
   "metadata": {},
   "outputs": [],
   "source": [
    "class Game(PuzzleSet):\n",
    "    def __init__(self,line):\n",
    "        self.line = line\n",
    "        self.BagSection = []\n",
    "        self.GameSection = 0\n",
    "        self.GetLineInfo()\n",
    "        self.numOfBags = len(self.BagSection)   #total number of bags in each game\n",
    "        self.Bags = []\n",
    "        self.GenerateBags()\n",
    "    def GetLineInfo(self):\n",
    "        PrevSection = 0\n",
    "        CurrentSection = 0\n",
    "        for i in range(len(self.line)):\n",
    "            if self.line[i] == ':':\n",
    "                PrevSection = 0\n",
    "                CurrentSection = i\n",
    "                self.GameSection = self.line[PrevSection:CurrentSection]\n",
    "            if CurrentSection > 0:\n",
    "                if self.line[i] == ';':\n",
    "                    PrevSection = CurrentSection\n",
    "                    CurrentSection = i\n",
    "                    self.BagSection.append(self.line[PrevSection + 2 : CurrentSection]) #adds a section just for the current bag\n",
    "                #the reason for the + 2 is to account for the semicolon and extra space ('; ')\n",
    "            if (i == len(self.line)-1) and (self.line[i] == self.line[-1]):\n",
    "                PrevSection = CurrentSection\n",
    "                CurrentSection = i\n",
    "                self.BagSection.append(self.line[PrevSection + 2 : CurrentSection + 1]) \n",
    "    def GenerateBags(self):\n",
    "        for BagString in self.BagSection:\n",
    "            NewBag = Bag(BagString)\n",
    "            self.Bags.append(NewBag)\n",
    "    def FindGameID(self):\n",
    "        digit = ''\n",
    "        for i in self.GameSection:\n",
    "            if i.isdigit():\n",
    "                digit = digit + i\n",
    "        if digit != '':\n",
    "            GameID = int(digit)\n",
    "            return GameID\n",
    "    def IsPossibleWithNCubes(self,nBlueCubes,nRedCubes,nGreenCubes):\n",
    "        Blue = []\n",
    "        Red = []\n",
    "        Green = []\n",
    "        for B in self.Bags:\n",
    "            Blue.append(B.BlueCubes)\n",
    "            Red.append(B.RedCubes)\n",
    "            Green.append(B.GreenCubes)\n",
    "        if (max(Blue) <= nBlueCubes) and (max(Red) <= nRedCubes) and (max(Green) <= nGreenCubes):\n",
    "            Result = True\n",
    "        else:\n",
    "            Result = False\n",
    "        return Result"
   ]
  },
  {
   "cell_type": "code",
   "execution_count": 4,
   "metadata": {},
   "outputs": [],
   "source": [
    "class Bag(Game):\n",
    "    def __init__(self,BagSection):\n",
    "        self.BagString = BagSection\n",
    "        self.Cubes = [] #Seperated Cube Strings\n",
    "        self.SeperateBags()\n",
    "        self.BlueCubes = 0  #Number of Blue Cubes In Bag\n",
    "        self.RedCubes = 0   #Number of Red Cubes In Bag\n",
    "        self.GreenCubes = 0  #Number of Green Cubes In Bag\n",
    "        self.FindAllCubeNumbers()\n",
    "    def SeperateBags(self):\n",
    "        PrevSection = 0\n",
    "        CurrentSection = 0\n",
    "        for i in range(len(self.BagString)):\n",
    "                if self.BagString[i] == ',':\n",
    "                    if len(self.Cubes) == 0:\n",
    "                        PrevSection = CurrentSection\n",
    "                        CurrentSection = i\n",
    "                        self.Cubes.append(self.BagString[PrevSection:CurrentSection])\n",
    "                    else:\n",
    "                        PrevSection = CurrentSection\n",
    "                        CurrentSection = i\n",
    "                        self.Cubes.append(self.BagString[PrevSection+2:CurrentSection])\n",
    "                if (i == len(self.BagString)-1) and (self.BagString[i] == self.BagString[-1]):\n",
    "                    PrevSection = CurrentSection\n",
    "                    CurrentSection = i\n",
    "                    self.Cubes.append(self.BagString[PrevSection+2:CurrentSection+1])\n",
    "    def FindAllCubeNumbers(self):\n",
    "         for Cube in self.Cubes:\n",
    "                if 'blue' in Cube:\n",
    "                    digits = ''\n",
    "                    for i in Cube:\n",
    "                        if i.isdigit():\n",
    "                            digits = digits + i\n",
    "                    if digits != '':\n",
    "                        self.BlueCubes = int(digits)\n",
    "                if 'red' in Cube:\n",
    "                    digits = ''\n",
    "                    for i in Cube:\n",
    "                        if i.isdigit():\n",
    "                            digits = digits + i\n",
    "                    if digits != '':\n",
    "                        self.RedCubes = int(digits)\n",
    "                if 'green' in Cube:\n",
    "                    digits = ''\n",
    "                    for i in Cube:\n",
    "                        if i.isdigit():\n",
    "                            digits = digits + i\n",
    "                    if digits != '':\n",
    "                        self.GreenCubes = int(digits)\n",
    "    def TotalCubesInBag(self):\n",
    "        return self.BlueCubes + self.RedCubes + self.GreenCubes"
   ]
  },
  {
   "cell_type": "code",
   "execution_count": 5,
   "metadata": {},
   "outputs": [
    {
     "name": "stdout",
     "output_type": "stream",
     "text": [
      "2164\n"
     ]
    }
   ],
   "source": [
    "file = open('input_doc.txt')\n",
    "Input = file.readlines()\n",
    "file.close()\n",
    "\n",
    "TestPuzzle = PuzzleSet(TestInput)\n",
    "RealPuzzle = PuzzleSet(Input)\n",
    "PossibleGames = RealPuzzle.PossibleGamesWithNCubes(14,12,13)\n",
    "print(sum(PossibleGames))"
   ]
  }
 ],
 "metadata": {
  "kernelspec": {
   "display_name": "Python 3",
   "language": "python",
   "name": "python3"
  },
  "language_info": {
   "codemirror_mode": {
    "name": "ipython",
    "version": 3
   },
   "file_extension": ".py",
   "mimetype": "text/x-python",
   "name": "python",
   "nbconvert_exporter": "python",
   "pygments_lexer": "ipython3",
   "version": "3.11.5"
  }
 },
 "nbformat": 4,
 "nbformat_minor": 2
}
