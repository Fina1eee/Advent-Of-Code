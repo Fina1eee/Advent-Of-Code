{
 "cells": [
  {
   "cell_type": "markdown",
   "metadata": {},
   "source": [
    "https://adventofcode.com/2023/day/1"
   ]
  },
  {
   "cell_type": "code",
   "execution_count": 56,
   "metadata": {},
   "outputs": [],
   "source": [
    "def CheckStrIsInt(i):\n",
    "    try:\n",
    "        int(i)\n",
    "        flag = True\n",
    "    except ValueError:\n",
    "        flag = False\n",
    "    if flag:\n",
    "        return True\n",
    "    else:\n",
    "        return False"
   ]
  },
  {
   "cell_type": "code",
   "execution_count": 57,
   "metadata": {},
   "outputs": [],
   "source": [
    "InputFile = open(\"Day_1_Input.txt\",\"r\")\n",
    "Input = InputFile.readlines()\n",
    "InputFile.close()\n",
    "Values = []\n",
    "for x in Input:\n",
    "    temp = ''\n",
    "    for i in x:\n",
    "        if CheckStrIsInt(i):\n",
    "            temp = temp + i\n",
    "    Values.append(temp)\n",
    "    if len(Values[-1]) == 1:\n",
    "        Values[-1] = Values[-1] + Values[-1]\n",
    "    elif len(Values[-1]) > 1:\n",
    "        Values[-1] = Values[-1][0] + Values[-1][-1]\n",
    "    Values[-1] = int(Values[-1])"
   ]
  },
  {
   "cell_type": "code",
   "execution_count": 58,
   "metadata": {},
   "outputs": [
    {
     "name": "stdout",
     "output_type": "stream",
     "text": [
      "54561\n"
     ]
    }
   ],
   "source": [
    "print(sum(Values))"
   ]
  }
 ],
 "metadata": {
  "kernelspec": {
   "display_name": "base",
   "language": "python",
   "name": "python3"
  },
  "language_info": {
   "codemirror_mode": {
    "name": "ipython",
    "version": 3
   },
   "file_extension": ".py",
   "mimetype": "text/x-python",
   "name": "python",
   "nbconvert_exporter": "python",
   "pygments_lexer": "ipython3",
   "version": "3.11.5"
  }
 },
 "nbformat": 4,
 "nbformat_minor": 2
}
