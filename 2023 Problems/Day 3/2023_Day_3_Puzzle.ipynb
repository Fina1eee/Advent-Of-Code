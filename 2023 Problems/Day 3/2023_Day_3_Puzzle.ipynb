{
 "cells": [
  {
   "cell_type": "markdown",
   "metadata": {},
   "source": [
    "https://adventofcode.com/2023/day/3"
   ]
  },
  {
   "cell_type": "code",
   "execution_count": 302,
   "metadata": {},
   "outputs": [],
   "source": [
    "Day3InputFile = open(\"Day_3_Input.txt\")\n",
    "Day3TestInput = open(\"Day_3_TestInput.txt\")\n",
    "Day3Input = Day3InputFile.readlines()\n",
    "Day3Test = Day3TestInput.readlines()\n",
    "Day3InputFile.close()\n",
    "Day3TestInput.close()"
   ]
  },
  {
   "cell_type": "code",
   "execution_count": 303,
   "metadata": {},
   "outputs": [],
   "source": [
    "#Class for testing the engine schematic, made to be general for any schematic input\n",
    "class EngineSchematic:\n",
    "    def __init__(self,InputText):\n",
    "        self.Input = InputText  #This is the input string list\n",
    "        self.Symbols = self.RemoveDuplicatesInList(self.FindSymbols()) #list of all the symbols\n",
    "        self.SymbolCoord = self.FindWhereSymbolsAre()   #2d list of coordinates where all the symbols are 1st row is row, 2nd row is column\n",
    "        self.NumOfRows = len(self.Input)    #number of rows in the schematic\n",
    "        self.AllNumbers = self.ListAllNumberObj()\n",
    "        self.AllParts = self.FindAllNumbersWithSymbols()\n",
    "        self.SumOfAllPartNumbers = self.SumAllPartNumbersWithSymbols()\n",
    "    #Function for finding all the symbols in the Schematic\n",
    "    def FindSymbols(self):\n",
    "        Symbols = []\n",
    "        for line in self.Input:\n",
    "            for i in line:\n",
    "                if (i not in ['.','\\n']) and (not i.isdigit()):\n",
    "                    Symbols.append(i)\n",
    "        return Symbols\n",
    "    #Simple Function for removing any duplicates in a list, doesnt modify the original variable, just returns a list with no duplicates\n",
    "    def RemoveDuplicatesInList(self,list):\n",
    "        Items = []\n",
    "        for i in list:\n",
    "            if i not in Items:\n",
    "                Items.append(i)\n",
    "        return Items\n",
    "    #Function for finding the indicies where all the symbols are\n",
    "    def FindWhereSymbolsAre(self):\n",
    "        row = []\n",
    "        col = []\n",
    "        for i in range(len(self.Input)):\n",
    "            for j in range(len(self.Input[i])):\n",
    "                if self.Input[i][j] in self.Symbols:\n",
    "                    row.append(i)\n",
    "                    col.append(j)\n",
    "        coord = [row , col]\n",
    "        return coord\n",
    "    def ListAllNumberObj(self):\n",
    "        AllNumbers = []\n",
    "        bFilePN = True\n",
    "        for i in range(len(self.Input)):\n",
    "            for j in range(len(self.Input[i])):\n",
    "                if self.Input[i][j].isdigit():\n",
    "                    if bFilePN:\n",
    "                        AllNumbers.append(Num(i,j,self.Input))\n",
    "                        bFilePN = False\n",
    "                else:\n",
    "                    bFilePN = True\n",
    "        return AllNumbers\n",
    "    def FindAllNumbersWithSymbols(self):\n",
    "        NumbersWithPartNumbers = []\n",
    "        for Number in self.AllNumbers:\n",
    "            if Number.PartSymbol != 0:\n",
    "                NumbersWithPartNumbers.append(Number)\n",
    "        return NumbersWithPartNumbers\n",
    "    def SumAllPartNumbersWithSymbols(self):\n",
    "        sum = 0\n",
    "        for Number in self.AllParts:\n",
    "            sum = sum + Number.PartNumber\n",
    "        return sum"
   ]
  },
  {
   "cell_type": "code",
   "execution_count": 304,
   "metadata": {},
   "outputs": [],
   "source": [
    "class Num(EngineSchematic):\n",
    "    def __init__(self,iFirstDigit,jFirstDigit,InputDoc):\n",
    "        self.Input = InputDoc\n",
    "        self.iFirstDigit = iFirstDigit\n",
    "        self.jFirstDigit = jFirstDigit\n",
    "        self.Symbols = self.RemoveDuplicatesInList(self.FindSymbols())\n",
    "        self.PartNumber = int(self.FindFullPartNumberString())\n",
    "        self.PartNumberLength = len(self.FindFullPartNumberString())\n",
    "        self.bHasSymbol = False\n",
    "        self.PartSymbol = self.SearchForSymbolAroundNumber()\n",
    "    #this finds the full part number\n",
    "    def FindFullPartNumberString(self):\n",
    "        jEnd = self.jFirstDigit\n",
    "        while self.Input[self.iFirstDigit][jEnd].isdigit():\n",
    "            jEnd = jEnd+1\n",
    "        return self.Input[self.iFirstDigit][self.jFirstDigit:jEnd]\n",
    "    #this searches around the part number for a symbol, it only needs to find 1 since each part number corrisponds with one symbol\n",
    "    def SearchForSymbolAroundNumber(self):\n",
    "        iTop = self.iFirstDigit-1   #indic aboyve part number\n",
    "        iMid = self.iFirstDigit     #indicy of the part number\n",
    "        iBot = self.iFirstDigit+1   #indicy below part number\n",
    "        jLeftMost = self.jFirstDigit-1\n",
    "        jRightMost = self.jFirstDigit + self.PartNumberLength + 1\n",
    "        #this section is for deterining if the \n",
    "        if iTop < 0:\n",
    "            iTop = self.iFirstDigit\n",
    "        if iBot > len(self.Input)-1:\n",
    "            iBot = self.iFirstDigit\n",
    "        if jLeftMost < 0:\n",
    "            jLeftMost = self.jFirstDigit\n",
    "        if jRightMost > len(self.Input)-1:\n",
    "            jRightMost = jRightMost - 1\n",
    "        #this is for scanning the\n",
    "        top = self.SearchForSymbolBetween(iTop,jLeftMost,jRightMost)\n",
    "        mid = self.SearchForSymbolBetween(iMid,jLeftMost,jRightMost)\n",
    "        bot = self.SearchForSymbolBetween(iBot,jLeftMost,jRightMost)\n",
    "        a = [top,mid,bot]\n",
    "        for symbol in a:\n",
    "            if symbol != 0:\n",
    "                return symbol\n",
    "        return 0 #this will return zero if there is no symbol\n",
    "    def SearchForSymbolBetween(self,row,start,end):\n",
    "        for i in self.Symbols:\n",
    "            if i in self.Input[row][start:end+1]:\n",
    "                return i\n",
    "        return 0     \n",
    "        "
   ]
  },
  {
   "cell_type": "code",
   "execution_count": 305,
   "metadata": {},
   "outputs": [
    {
     "name": "stdout",
     "output_type": "stream",
     "text": [
      "Sum Of All Part Numbers for Test Puzzle: 4361\n",
      "Sum Of All Part Numbers for Day 3 Puzzle Part 1: 536649\n"
     ]
    }
   ],
   "source": [
    "Day3Puzzle = EngineSchematic(Day3Input)\n",
    "Day3TestPuzzle = EngineSchematic(Day3Test)\n",
    "Coord = Day3TestPuzzle.SymbolCoord\n",
    "AllNums = Day3TestPuzzle.AllNumbers\n",
    "print(\"Sum Of All Part Numbers for Test Puzzle:\",Day3TestPuzzle.SumOfAllPartNumbers)\n",
    "print(\"Sum Of All Part Numbers for Day 3 Puzzle Part 1:\",Day3Puzzle.SumOfAllPartNumbers)"
   ]
  }
 ],
 "metadata": {
  "kernelspec": {
   "display_name": "base",
   "language": "python",
   "name": "python3"
  },
  "language_info": {
   "codemirror_mode": {
    "name": "ipython",
    "version": 3
   },
   "file_extension": ".py",
   "mimetype": "text/x-python",
   "name": "python",
   "nbconvert_exporter": "python",
   "pygments_lexer": "ipython3",
   "version": "3.11.1"
  }
 },
 "nbformat": 4,
 "nbformat_minor": 2
}
